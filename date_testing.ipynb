{
 "cells": [
  {
   "cell_type": "code",
   "execution_count": 11,
   "metadata": {},
   "outputs": [],
   "source": [
    "import datetime as dt\n",
    "import re"
   ]
  },
  {
   "cell_type": "code",
   "execution_count": 9,
   "metadata": {},
   "outputs": [],
   "source": [
    "def formatYear(date_string):\n",
    "    regex = re.compile('[0-9][0-9][0-9][0-9](-[0-9][0-9]-[0-9][0-9])')\n",
    "    date = '2008' + regex.findall(date_string)[0]\n",
    "    return date"
   ]
  },
  {
   "cell_type": "code",
   "execution_count": 2,
   "metadata": {},
   "outputs": [],
   "source": [
    "start = '2020-12-19'\n",
    "end = '2021-01-08'"
   ]
  },
  {
   "cell_type": "code",
   "execution_count": 4,
   "metadata": {},
   "outputs": [],
   "source": [
    "start_year = dt.datetime.strptime(start, '%Y-%m-%d').year\n",
    "end_year = dt.datetime.strptime(end, '%Y-%m-%d').year"
   ]
  },
  {
   "cell_type": "code",
   "execution_count": 12,
   "metadata": {},
   "outputs": [
    {
     "name": "stdout",
     "output_type": "stream",
     "text": [
      "2008-12-19 2008-01-01 2008-12-31 2008-01-08\n"
     ]
    }
   ],
   "source": [
    "if start_year == end_year:\n",
    "    print('this works')\n",
    "else:\n",
    "    if (end_year - start_year) == 1:\n",
    "        start_1 = formatYear(start)\n",
    "        start_2 = '2008-01-01'\n",
    "        end_1 = '2008-12-31'\n",
    "        end_2 = formatYear(end)\n",
    "        print(start_1, start_2, end_1, end_2)\n",
    "    else:\n",
    "        print('no filter')"
   ]
  },
  {
   "cell_type": "code",
   "execution_count": null,
   "metadata": {},
   "outputs": [],
   "source": []
  }
 ],
 "metadata": {
  "kernelspec": {
   "display_name": "Python [conda env:PythonData] *",
   "language": "python",
   "name": "conda-env-PythonData-py"
  },
  "language_info": {
   "codemirror_mode": {
    "name": "ipython",
    "version": 3
   },
   "file_extension": ".py",
   "mimetype": "text/x-python",
   "name": "python",
   "nbconvert_exporter": "python",
   "pygments_lexer": "ipython3",
   "version": "3.6.10"
  }
 },
 "nbformat": 4,
 "nbformat_minor": 4
}
